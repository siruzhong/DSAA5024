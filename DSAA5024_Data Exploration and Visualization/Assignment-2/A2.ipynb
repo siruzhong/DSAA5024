{
 "cells": [
  {
   "cell_type": "markdown",
   "source": [
    "# 1. Read csv file "
   ],
   "metadata": {
    "collapsed": false
   }
  },
  {
   "cell_type": "code",
   "execution_count": 5,
   "outputs": [
    {
     "data": {
      "text/plain": "         date     location  new_cases  new_deaths  total_cases  total_deaths  \\\n0  2020-02-24  Afghanistan        5.0         NaN          5.0           NaN   \n1  2020-02-25  Afghanistan        0.0         NaN          5.0           NaN   \n2  2020-02-26  Afghanistan        0.0         NaN          5.0           NaN   \n3  2020-02-27  Afghanistan        0.0         NaN          5.0           NaN   \n4  2020-02-28  Afghanistan        0.0         NaN          5.0           NaN   \n\n   weekly_cases  weekly_deaths  biweekly_cases  biweekly_deaths  \n0           NaN            NaN             NaN              NaN  \n1           NaN            NaN             NaN              NaN  \n2           NaN            NaN             NaN              NaN  \n3           NaN            NaN             NaN              NaN  \n4           NaN            NaN             NaN              NaN  ",
      "text/html": "<div>\n<style scoped>\n    .dataframe tbody tr th:only-of-type {\n        vertical-align: middle;\n    }\n\n    .dataframe tbody tr th {\n        vertical-align: top;\n    }\n\n    .dataframe thead th {\n        text-align: right;\n    }\n</style>\n<table border=\"1\" class=\"dataframe\">\n  <thead>\n    <tr style=\"text-align: right;\">\n      <th></th>\n      <th>date</th>\n      <th>location</th>\n      <th>new_cases</th>\n      <th>new_deaths</th>\n      <th>total_cases</th>\n      <th>total_deaths</th>\n      <th>weekly_cases</th>\n      <th>weekly_deaths</th>\n      <th>biweekly_cases</th>\n      <th>biweekly_deaths</th>\n    </tr>\n  </thead>\n  <tbody>\n    <tr>\n      <th>0</th>\n      <td>2020-02-24</td>\n      <td>Afghanistan</td>\n      <td>5.0</td>\n      <td>NaN</td>\n      <td>5.0</td>\n      <td>NaN</td>\n      <td>NaN</td>\n      <td>NaN</td>\n      <td>NaN</td>\n      <td>NaN</td>\n    </tr>\n    <tr>\n      <th>1</th>\n      <td>2020-02-25</td>\n      <td>Afghanistan</td>\n      <td>0.0</td>\n      <td>NaN</td>\n      <td>5.0</td>\n      <td>NaN</td>\n      <td>NaN</td>\n      <td>NaN</td>\n      <td>NaN</td>\n      <td>NaN</td>\n    </tr>\n    <tr>\n      <th>2</th>\n      <td>2020-02-26</td>\n      <td>Afghanistan</td>\n      <td>0.0</td>\n      <td>NaN</td>\n      <td>5.0</td>\n      <td>NaN</td>\n      <td>NaN</td>\n      <td>NaN</td>\n      <td>NaN</td>\n      <td>NaN</td>\n    </tr>\n    <tr>\n      <th>3</th>\n      <td>2020-02-27</td>\n      <td>Afghanistan</td>\n      <td>0.0</td>\n      <td>NaN</td>\n      <td>5.0</td>\n      <td>NaN</td>\n      <td>NaN</td>\n      <td>NaN</td>\n      <td>NaN</td>\n      <td>NaN</td>\n    </tr>\n    <tr>\n      <th>4</th>\n      <td>2020-02-28</td>\n      <td>Afghanistan</td>\n      <td>0.0</td>\n      <td>NaN</td>\n      <td>5.0</td>\n      <td>NaN</td>\n      <td>NaN</td>\n      <td>NaN</td>\n      <td>NaN</td>\n      <td>NaN</td>\n    </tr>\n  </tbody>\n</table>\n</div>"
     },
     "execution_count": 5,
     "metadata": {},
     "output_type": "execute_result"
    }
   ],
   "source": [
    "import pandas as pd\n",
    "\n",
    "# Load the data from the uploaded file\n",
    "data = pd.read_csv(\"./full_data.csv\")\n",
    "\n",
    "# Display the first few rows of the data\n",
    "data.head()"
   ],
   "metadata": {
    "collapsed": false,
    "ExecuteTime": {
     "end_time": "2023-10-19T10:41:31.355936Z",
     "start_time": "2023-10-19T10:41:30.698167Z"
    }
   }
  },
  {
   "cell_type": "markdown",
   "source": [
    "# 2. Filter data"
   ],
   "metadata": {
    "collapsed": false
   }
  },
  {
   "cell_type": "code",
   "execution_count": 6,
   "outputs": [
    {
     "data": {
      "text/plain": "            date     location  new_cases  new_deaths  total_cases  \\\n1109  2023-03-09  Afghanistan        0.0         0.0     209451.0   \n2230  2023-03-09       Africa      451.0         0.0   12524604.0   \n3326  2023-03-09      Albania       14.0         0.0     334457.0   \n4435  2023-03-09      Algeria        2.0         0.0     271496.0   \n5538  2023-03-09      Andorra        0.0         0.0      47890.0   \n\n      total_deaths  weekly_cases  weekly_deaths  biweekly_cases  \\\n1109        7896.0          93.0            0.0           236.0   \n2230      257705.0        4403.0           23.0          9431.0   \n3326        3598.0          49.0            0.0           112.0   \n4435        6881.0          33.0            0.0            64.0   \n5538         165.0          15.0            0.0            24.0   \n\n      biweekly_deaths  \n1109              0.0  \n2230             37.0  \n3326              0.0  \n4435              0.0  \n5538              0.0  ",
      "text/html": "<div>\n<style scoped>\n    .dataframe tbody tr th:only-of-type {\n        vertical-align: middle;\n    }\n\n    .dataframe tbody tr th {\n        vertical-align: top;\n    }\n\n    .dataframe thead th {\n        text-align: right;\n    }\n</style>\n<table border=\"1\" class=\"dataframe\">\n  <thead>\n    <tr style=\"text-align: right;\">\n      <th></th>\n      <th>date</th>\n      <th>location</th>\n      <th>new_cases</th>\n      <th>new_deaths</th>\n      <th>total_cases</th>\n      <th>total_deaths</th>\n      <th>weekly_cases</th>\n      <th>weekly_deaths</th>\n      <th>biweekly_cases</th>\n      <th>biweekly_deaths</th>\n    </tr>\n  </thead>\n  <tbody>\n    <tr>\n      <th>1109</th>\n      <td>2023-03-09</td>\n      <td>Afghanistan</td>\n      <td>0.0</td>\n      <td>0.0</td>\n      <td>209451.0</td>\n      <td>7896.0</td>\n      <td>93.0</td>\n      <td>0.0</td>\n      <td>236.0</td>\n      <td>0.0</td>\n    </tr>\n    <tr>\n      <th>2230</th>\n      <td>2023-03-09</td>\n      <td>Africa</td>\n      <td>451.0</td>\n      <td>0.0</td>\n      <td>12524604.0</td>\n      <td>257705.0</td>\n      <td>4403.0</td>\n      <td>23.0</td>\n      <td>9431.0</td>\n      <td>37.0</td>\n    </tr>\n    <tr>\n      <th>3326</th>\n      <td>2023-03-09</td>\n      <td>Albania</td>\n      <td>14.0</td>\n      <td>0.0</td>\n      <td>334457.0</td>\n      <td>3598.0</td>\n      <td>49.0</td>\n      <td>0.0</td>\n      <td>112.0</td>\n      <td>0.0</td>\n    </tr>\n    <tr>\n      <th>4435</th>\n      <td>2023-03-09</td>\n      <td>Algeria</td>\n      <td>2.0</td>\n      <td>0.0</td>\n      <td>271496.0</td>\n      <td>6881.0</td>\n      <td>33.0</td>\n      <td>0.0</td>\n      <td>64.0</td>\n      <td>0.0</td>\n    </tr>\n    <tr>\n      <th>5538</th>\n      <td>2023-03-09</td>\n      <td>Andorra</td>\n      <td>0.0</td>\n      <td>0.0</td>\n      <td>47890.0</td>\n      <td>165.0</td>\n      <td>15.0</td>\n      <td>0.0</td>\n      <td>24.0</td>\n      <td>0.0</td>\n    </tr>\n  </tbody>\n</table>\n</div>"
     },
     "execution_count": 6,
     "metadata": {},
     "output_type": "execute_result"
    }
   ],
   "source": [
    "# Filter the data for the latest date\n",
    "latest_date = data['date'].max()\n",
    "latest_data = data[data['date'] == latest_date]\n",
    "\n",
    "# Display the first few rows of the filtered data\n",
    "latest_data.head()"
   ],
   "metadata": {
    "collapsed": false,
    "ExecuteTime": {
     "end_time": "2023-10-19T10:41:36.323507Z",
     "start_time": "2023-10-19T10:41:36.285820Z"
    }
   }
  },
  {
   "cell_type": "markdown",
   "source": [
    "# Create scatter plot"
   ],
   "metadata": {
    "collapsed": false
   }
  },
  {
   "cell_type": "code",
   "execution_count": 7,
   "outputs": [
    {
     "name": "stderr",
     "output_type": "stream",
     "text": [
      "/var/folders/db/nd0zlsh903504csmxc7d87pm0000gn/T/ipykernel_63418/42581977.py:4: SettingWithCopyWarning:\n",
      "\n",
      "\n",
      "A value is trying to be set on a copy of a slice from a DataFrame.\n",
      "Try using .loc[row_indexer,col_indexer] = value instead\n",
      "\n",
      "See the caveats in the documentation: https://pandas.pydata.org/pandas-docs/stable/user_guide/indexing.html#returning-a-view-versus-a-copy\n",
      "\n"
     ]
    },
    {
     "data": {
      "application/vnd.plotly.v1+json": {
       "data": [
        {
         "customdata": [
          [
           "Afghanistan",
           3.7698554793245203
          ],
          [
           "Africa",
           2.057590004442456
          ],
          [
           "Albania",
           1.075773567304616
          ],
          [
           "Algeria",
           2.534475646050034
          ],
          [
           "Andorra",
           0.34453956984756734
          ],
          [
           "Angola",
           1.835916723653218
          ],
          [
           "Anguilla",
           0.3073770491803279
          ],
          [
           "Antigua and Barbuda",
           1.6033384581594552
          ],
          [
           "Argentina",
           1.2988806223859395
          ],
          [
           "Armenia",
           1.951004676866946
          ],
          [
           "Aruba",
           0.640268822087004
          ],
          [
           "Asia",
           0.7703678376850807
          ],
          [
           "Australia",
           0.1717098880122392
          ],
          [
           "Austria",
           0.3685534804315213
          ],
          [
           "Azerbaijan",
           1.2231773896781588
          ],
          [
           "Bahamas",
           2.2218665813128484
          ],
          [
           "Bahrain",
           0.21851910740643288
          ],
          [
           "Bangladesh",
           1.4448902801011447
          ],
          [
           "Barbados",
           0.5421449839884642
          ],
          [
           "Belarus",
           0.7160699249625517
          ],
          [
           "Belgium",
           0.7134711084712826
          ],
          [
           "Belize",
           0.972341959099453
          ],
          [
           "Benin",
           0.5821636487017393
          ],
          [
           "Bermuda",
           0.8497981729339281
          ],
          [
           "Bhutan",
           0.033531863253868144
          ],
          [
           "Bolivia",
           1.872681128414932
          ],
          [
           "Bonaire Sint Eustatius and Saba",
           0.3473398847848187
          ],
          [
           "Bosnia and Herzegovina",
           4.052483141620346
          ],
          [
           "Botswana",
           0.849410780026565
          ],
          [
           "Brazil",
           1.8860583676477103
          ],
          [
           "British Virgin Islands",
           0.8761122518822724
          ],
          [
           "Brunei",
           0.0804545503305788
          ],
          [
           "Bulgaria",
           2.946229084185791
          ],
          [
           "Burkina Faso",
           1.7954298150163224
          ],
          [
           "Burundi",
           0.07085454308142679
          ],
          [
           "Cambodia",
           2.203014727614818
          ],
          [
           "Cameroon",
           1.5796835809376808
          ],
          [
           "Canada",
           1.1201848781539043
          ],
          [
           "Cape Verde",
           0.6530263740433875
          ],
          [
           "Cayman Islands",
           0.1175648195221149
          ],
          [
           "Central African Republic",
           0.7352941176470588
          ],
          [
           "Chad",
           2.526370621174632
          ],
          [
           "Chile",
           1.2378555418557453
          ],
          [
           "China",
           4.321746485999336
          ],
          [
           "Colombia",
           2.2383538029715875
          ],
          [
           "Comoros",
           1.7873001776198933
          ],
          [
           "Congo",
           1.5466177701598436
          ],
          [
           "Cook Islands",
           0.028445455838429813
          ],
          [
           "Costa Rica",
           0.7642232738845605
          ],
          [
           "Cote d'Ivoire",
           0.9449033003636857
          ],
          [
           "Croatia",
           1.4170512539725808
          ],
          [
           "Cuba",
           0.7666430292555654
          ],
          [
           "Curacao",
           0.6545470360544514
          ],
          [
           "Cyprus",
           0.2043999784842128
          ],
          [
           "Czechia",
           0.920065929649634
          ],
          [
           "Democratic Republic of Congo",
           1.5289976918818995
          ],
          [
           "Denmark",
           0.24368414234843247
          ],
          [
           "Djibouti",
           1.2045889101338432
          ],
          [
           "Dominica",
           0.46954314720812185
          ],
          [
           "Dominican Republic",
           0.6634482967357254
          ],
          [
           "Ecuador",
           3.4068001676250876
          ],
          [
           "Egypt",
           4.810774024302048
          ],
          [
           "El Salvador",
           2.0962906063384295
          ],
          [
           "Equatorial Guinea",
           1.062162632770329
          ],
          [
           "Eritrea",
           1.0108941014819903
          ],
          [
           "Estonia",
           0.478687363206068
          ],
          [
           "Eswatini",
           1.9187526088303013
          ],
          [
           "Ethiopia",
           1.5140487406921594
          ],
          [
           "Europe",
           0.8197819255659804
          ],
          [
           "European Union",
           0.6602708991739341
          ],
          [
           "Faeroe Islands",
           0.08078942812626233
          ],
          [
           "Falkland Islands",
           null
          ],
          [
           "Fiji",
           1.2816046909924816
          ],
          [
           "Finland",
           0.6126489774835957
          ],
          [
           "France",
           0.416112461694715
          ],
          [
           "French Polynesia",
           0.8314649926333996
          ],
          [
           "Gabon",
           0.6247320389538801
          ],
          [
           "Gambia",
           2.95284965867598
          ],
          [
           "Georgia",
           0.9286268896334247
          ],
          [
           "Germany",
           0.44167098485557554
          ],
          [
           "Ghana",
           0.8538273306507659
          ],
          [
           "Gibraltar",
           0.543238878285127
          ],
          [
           "Greece",
           0.6268195275576928
          ],
          [
           "Greenland",
           0.1754239411912121
          ],
          [
           "Grenada",
           1.2093495934959348
          ],
          [
           "Guatemala",
           1.6298848291172923
          ],
          [
           "Guinea",
           1.2203726448375884
          ],
          [
           "Guinea-Bissau",
           1.9642857142857142
          ],
          [
           "Guyana",
           1.776257269928156
          ],
          [
           "Haiti",
           2.51447283784574
          ],
          [
           "High income",
           0.6664395381096166
          ],
          [
           "Honduras",
           2.352779248279513
          ],
          [
           "Hong Kong",
           0.46823726246529157
          ],
          [
           "Hungary",
           2.2196791338690205
          ],
          [
           "Iceland",
           0.1257548879442662
          ],
          [
           "India",
           1.1876711456409603
          ],
          [
           "Indonesia",
           2.388477677726701
          ],
          [
           "International",
           2.0804438280166435
          ],
          [
           "Iran",
           1.9139863642684514
          ],
          [
           "Iraq",
           1.029184216876999
          ],
          [
           "Ireland",
           0.5108823574275654
          ],
          [
           "Isle of Man",
           0.3051989054935803
          ],
          [
           "Israel",
           0.2566497024037517
          ],
          [
           "Italy",
           0.7355319641720999
          ],
          [
           "Jamaica",
           2.275670914931095
          ],
          [
           "Japan",
           0.21907575164528148
          ],
          [
           "Jordan",
           0.8083585718807761
          ],
          [
           "Kazakhstan",
           1.2725300066459015
          ],
          [
           "Kenya",
           1.65861368123008
          ],
          [
           "Kiribati",
           0.35899481451934584
          ],
          [
           "Kosovo",
           1.174847792998478
          ],
          [
           "Kuwait",
           0.3871298165275811
          ],
          [
           "Kyrgyzstan",
           1.4469686707819727
          ],
          [
           "Laos",
           0.3476697412658298
          ],
          [
           "Latvia",
           0.6421477994991063
          ],
          [
           "Lebanon",
           0.8793603000580779
          ],
          [
           "Lesotho",
           2.0781833860304686
          ],
          [
           "Liberia",
           3.646477132262052
          ],
          [
           "Libya",
           1.2691571353366706
          ],
          [
           "Liechtenstein",
           0.41526689063083244
          ],
          [
           "Lithuania",
           0.7339488836267293
          ],
          [
           "Low income",
           2.094472692204624
          ],
          [
           "Lower middle income",
           1.3854294096210389
          ],
          [
           "Luxembourg",
           0.38441299820082114
          ],
          [
           "Macao",
           3.44336937962436
          ],
          [
           "Madagascar",
           2.0960685825391447
          ],
          [
           "Malawi",
           3.027945934368201
          ],
          [
           "Malaysia",
           0.7327862528688422
          ],
          [
           "Maldives",
           0.16744015764140885
          ],
          [
           "Mali",
           2.247292964732926
          ],
          [
           "Malta",
           0.7040217668565598
          ],
          [
           "Marshall Islands",
           0.10863313949773148
          ],
          [
           "Mauritania",
           1.565935791920588
          ],
          [
           "Mauritius",
           0.35265266414900587
          ],
          [
           "Mexico",
           4.45233504787368
          ],
          [
           "Micronesia (country)",
           0.2547185568732253
          ],
          [
           "Moldova",
           1.9640344274634292
          ],
          [
           "Monaco",
           0.41560697227219157
          ],
          [
           "Mongolia",
           0.21192578628832226
          ],
          [
           "Montenegro",
           0.9722722362261434
          ],
          [
           "Montserrat",
           0.5702066999287242
          ],
          [
           "Morocco",
           1.280638747652241
          ],
          [
           "Mozambique",
           0.9613488041026695
          ],
          [
           "Myanmar",
           3.0743749507058915
          ],
          [
           "Namibia",
           2.3896328495641406
          ],
          [
           "Nauru",
           0.01905850962454736
          ],
          [
           "Nepal",
           1.2006144908775274
          ],
          [
           "Netherlands",
           0.2680408468190864
          ],
          [
           "New Caledonia",
           0.3924166114700626
          ],
          [
           "New Zealand",
           0.1143070939933596
          ],
          [
           "Nicaragua",
           1.5649952091983392
          ],
          [
           "Niger",
           3.3129995793016405
          ],
          [
           "Nigeria",
           1.1834297331562877
          ],
          [
           "North America",
           1.2941242955393795
          ],
          [
           "North Korea",
           600.0
          ],
          [
           "North Macedonia",
           2.7856261460219347
          ],
          [
           "Norway",
           0.3523473375572657
          ],
          [
           "Oceania",
           0.17777358701262888
          ],
          [
           "Oman",
           1.1585959659430867
          ],
          [
           "Pakistan",
           1.9426769561008514
          ],
          [
           "Palau",
           0.15022533800701052
          ],
          [
           "Palestine",
           0.8116855415313383
          ],
          [
           "Panama",
           0.8344229261309393
          ],
          [
           "Papua New Guinea",
           1.430859583555793
          ],
          [
           "Paraguay",
           2.458928180445101
          ],
          [
           "Peru",
           4.8921762038242225
          ],
          [
           "Philippines",
           1.6232686491465749
          ],
          [
           "Poland",
           1.8465591718179786
          ],
          [
           "Portugal",
           0.47152189769163233
          ],
          [
           "Qatar",
           0.1389646326930457
          ],
          [
           "Romania",
           2.024359497747491
          ],
          [
           "Russia",
           1.7597413427826905
          ],
          [
           "Rwanda",
           1.1021517485772632
          ],
          [
           "Saint Helena",
           null
          ],
          [
           "Saint Kitts and Nevis",
           0.7124450507806579
          ],
          [
           "Saint Lucia",
           1.3631515797893614
          ],
          [
           "Saint Pierre and Miquelon",
           0.057937427578215524
          ],
          [
           "Saint Vincent and the Grenadines",
           1.2827197830847845
          ],
          [
           "Samoa",
           0.17462515806587584
          ],
          [
           "San Marino",
           0.51659891598916
          ],
          [
           "Sao Tome and Principe",
           1.2259194395796849
          ],
          [
           "Saudi Arabia",
           1.1586178982252113
          ],
          [
           "Senegal",
           2.2164496322785237
          ],
          [
           "Serbia",
           0.7151993766754048
          ],
          [
           "Seychelles",
           0.3394848514753775
          ],
          [
           "Sierra Leone",
           1.6237113402061858
          ],
          [
           "Singapore",
           0.07703684615983401
          ],
          [
           "Slovakia",
           0.7885509967756943
          ],
          [
           "Slovenia",
           0.5314982950453816
          ],
          [
           "Solomon Islands",
           0.6225839267548322
          ],
          [
           "Somalia",
           4.980969111403894
          ],
          [
           "South Africa",
           2.522579539505988
          ],
          [
           "South America",
           1.9868392054944408
          ],
          [
           "South Korea",
           0.11135854551165254
          ],
          [
           "South Sudan",
           0.7513066202090593
          ],
          [
           "Spain",
           0.8676490761471556
          ],
          [
           "Sri Lanka",
           2.5043189457754687
          ],
          [
           "Sudan",
           7.860063607451158
          ],
          [
           "Suriname",
           1.702499181490778
          ],
          [
           "Sweden",
           0.880845273602167
          ],
          [
           "Switzerland",
           0.3219367132685729
          ],
          [
           "Syria",
           5.505768528024779
          ],
          [
           "Taiwan",
           0.1772350983663822
          ],
          [
           "Tajikistan",
           0.7027999550208028
          ],
          [
           "Tanzania",
           1.9717522024891625
          ],
          [
           "Thailand",
           0.7173581727606932
          ],
          [
           "Timor",
           0.5892651266066016
          ],
          [
           "Togo",
           0.7361153416590517
          ],
          [
           "Tonga",
           0.07733491969066032
          ],
          [
           "Trinidad and Tobago",
           2.2930949146473742
          ],
          [
           "Tunisia",
           2.548895603087759
          ],
          [
           "Turkey",
           0.5955151999780316
          ],
          [
           "Turks and Caicos Islands",
           0.5791800030483159
          ],
          [
           "Tuvalu",
           null
          ],
          [
           "Uganda",
           2.128482972136223
          ],
          [
           "Ukraine",
           2.0883137728077505
          ],
          [
           "United Arab Emirates",
           0.22303180838064096
          ],
          [
           "United Kingdom",
           0.9004920428245893
          ],
          [
           "United States",
           1.0826654589395948
          ],
          [
           "Upper middle income",
           1.7984963095189446
          ],
          [
           "Uruguay",
           0.7364379683709706
          ],
          [
           "Uzbekistan",
           0.6515500682595216
          ],
          [
           "Vanuatu",
           0.1165307141668054
          ],
          [
           "Vatican",
           null
          ],
          [
           "Venezuela",
           1.0601961018686545
          ],
          [
           "Vietnam",
           0.3746510148265888
          ],
          [
           "Wallis and Futuna",
           0.20426028596440038
          ],
          [
           "World",
           1.0172811650056917
          ],
          [
           "Yemen",
           18.07450816241105
          ],
          [
           "Zambia",
           1.1823334839057513
          ],
          [
           "Zimbabwe",
           2.1458626587355645
          ]
         ],
         "hovertemplate": "Total Cases=%{x}<br>Total Deaths=%{y}<br>Country/Region=%{customdata[0]}<br>Case-Fatality Rate (%)=%{customdata[1]}<extra></extra>",
         "legendgroup": "",
         "marker": {
          "color": "#636efa",
          "symbol": "circle"
         },
         "mode": "markers",
         "name": "",
         "orientation": "v",
         "showlegend": false,
         "x": [
          209451.0,
          1.2524604E7,
          334457.0,
          271496.0,
          47890.0,
          105288.0,
          3904.0,
          9106.0,
          1.0044957E7,
          447308.0,
          44044.0,
          2.10767366E8,
          1.139946E7,
          5961143.0,
          828825.0,
          37491.0,
          710693.0,
          2037871.0,
          106798.0,
          994037.0,
          4739365.0,
          70757.0,
          27999.0,
          18828.0,
          62627.0,
          1194277.0,
          11804.0,
          401729.0,
          329758.0,
          3.7076053E7,
          7305.0,
          279661.0,
          1297523.0,
          22056.0,
          53631.0,
          138719.0,
          124392.0,
          4617095.0,
          63244.0,
          31472.0,
          15368.0,
          7679.0,
          5192286.0,
          2023904.0,
          6359093.0,
          9008.0,
          25087.0,
          7031.0,
          1209725.0,
          88263.0,
          1269326.0,
          1112643.0,
          45986.0,
          650685.0,
          4618256.0,
          95749.0,
          3404407.0,
          15690.0,
          15760.0,
          660790.0,
          1057121.0,
          515759.0,
          201785.0,
          17229.0,
          10189.0,
          615433.0,
          74267.0,
          500116.0,
          2.48452416E8,
          1.84184098E8,
          34658.0,
          1930.0,
          68898.0,
          1463644.0,
          3.9701767E7,
          78055.0,
          48981.0,
          12598.0,
          1827537.0,
          3.824906E7,
          171229.0,
          20433.0,
          5548487.0,
          11971.0,
          19680.0,
          1238247.0,
          38267.0,
          8960.0,
          73075.0,
          34202.0,
          4.31911049E8,
          472250.0,
          2876106.0,
          2196804.0,
          209137.0,
          4.4690738E7,
          6738225.0,
          721.0,
          7572311.0,
          2465545.0,
          1704502.0,
          38008.0,
          4803824.0,
          2.560351E7,
          154416.0,
          3.3320438E7,
          1746997.0,
          1498668.0,
          342937.0,
          5014.0,
          273312.0,
          663860.0,
          206708.0,
          218023.0,
          976255.0,
          1232828.0,
          34790.0,
          8090.0,
          507187.0,
          21432.0,
          1307448.0,
          2287497.0,
          9.7175431E7,
          317367.0,
          3514.0,
          67889.0,
          88707.0,
          5044718.0,
          185738.0,
          33062.0,
          117610.0,
          15649.0,
          63668.0,
          296042.0,
          7483444.0,
          23948.0,
          611140.0,
          16121.0,
          1007900.0,
          288808.0,
          1403.0,
          1272490.0,
          233214.0,
          633950.0,
          171156.0,
          5247.0,
          1001154.0,
          8611001.0,
          80017.0,
          2229083.0,
          15655.0,
          9508.0,
          266598.0,
          1.22717115E8,
          1.0,
          346852.0,
          1479506.0,
          1.4041456E7,
          399449.0,
          1577411.0,
          5991.0,
          703228.0,
          1031731.0,
          46825.0,
          808401.0,
          4487553.0,
          4077452.0,
          6444960.0,
          5570473.0,
          495090.0,
          3346046.0,
          2.2075858E7,
          133194.0,
          2166.0,
          6597.0,
          30004.0,
          3452.0,
          9589.0,
          16607.0,
          23616.0,
          6281.0,
          830127.0,
          88926.0,
          2500142.0,
          50665.0,
          7760.0,
          2235294.0,
          2667551.0,
          1331707.0,
          24575.0,
          27324.0,
          4067067.0,
          6.7963678E7,
          3.0615522E7,
          18368.0,
          1.3770429E7,
          672039.0,
          63829.0,
          82467.0,
          2699339.0,
          4413911.0,
          57467.0,
          9970937.0,
          17786.0,
          42906.0,
          4728182.0,
          23419.0,
          39396.0,
          16810.0,
          189918.0,
          1151126.0,
          1.7042722E7,
          6561.0,
          2805.0,
          170544.0,
          5711929.0,
          1053213.0,
          2.4425313E7,
          1.03802702E8,
          1.45057512E8,
          1034303.0,
          251247.0,
          12014.0,
          29.0,
          552162.0,
          1.1526994E7,
          3427.0,
          6.76467356E8,
          11945.0,
          343135.0,
          264276.0
         ],
         "xaxis": "x",
         "y": [
          7896.0,
          257705.0,
          3598.0,
          6881.0,
          165.0,
          1933.0,
          12.0,
          146.0,
          130472.0,
          8727.0,
          282.0,
          1623684.0,
          19574.0,
          21970.0,
          10138.0,
          833.0,
          1553.0,
          29445.0,
          579.0,
          7118.0,
          33814.0,
          688.0,
          163.0,
          160.0,
          21.0,
          22365.0,
          41.0,
          16280.0,
          2801.0,
          699276.0,
          64.0,
          225.0,
          38228.0,
          396.0,
          38.0,
          3056.0,
          1965.0,
          51720.0,
          413.0,
          37.0,
          113.0,
          194.0,
          64273.0,
          87468.0,
          142339.0,
          161.0,
          388.0,
          2.0,
          9245.0,
          834.0,
          17987.0,
          8530.0,
          301.0,
          1330.0,
          42491.0,
          1464.0,
          8296.0,
          189.0,
          74.0,
          4384.0,
          36014.0,
          24812.0,
          4230.0,
          183.0,
          103.0,
          2946.0,
          1425.0,
          7572.0,
          2036768.0,
          1216114.0,
          28.0,
          null,
          883.0,
          8967.0,
          165204.0,
          649.0,
          306.0,
          372.0,
          16971.0,
          168935.0,
          1462.0,
          111.0,
          34779.0,
          21.0,
          238.0,
          20182.0,
          467.0,
          176.0,
          1298.0,
          860.0,
          2878426.0,
          11111.0,
          13467.0,
          48762.0,
          263.0,
          530779.0,
          160941.0,
          15.0,
          144933.0,
          25375.0,
          8708.0,
          116.0,
          12329.0,
          188322.0,
          3514.0,
          72997.0,
          14122.0,
          19071.0,
          5688.0,
          18.0,
          3211.0,
          2570.0,
          2991.0,
          758.0,
          6269.0,
          10841.0,
          723.0,
          295.0,
          6437.0,
          89.0,
          9596.0,
          47911.0,
          1346297.0,
          1220.0,
          121.0,
          1423.0,
          2686.0,
          36967.0,
          311.0,
          743.0,
          828.0,
          17.0,
          997.0,
          1044.0,
          333188.0,
          61.0,
          12003.0,
          67.0,
          2136.0,
          2808.0,
          8.0,
          16296.0,
          2242.0,
          19490.0,
          4090.0,
          1.0,
          12020.0,
          23081.0,
          314.0,
          2548.0,
          245.0,
          315.0,
          3155.0,
          1588112.0,
          6.0,
          9662.0,
          5213.0,
          24962.0,
          4628.0,
          30644.0,
          9.0,
          5708.0,
          8609.0,
          670.0,
          19878.0,
          219539.0,
          66188.0,
          119010.0,
          26266.0,
          688.0,
          67736.0,
          388478.0,
          1468.0,
          null,
          47.0,
          409.0,
          2.0,
          123.0,
          29.0,
          122.0,
          77.0,
          9618.0,
          1971.0,
          17881.0,
          172.0,
          126.0,
          1722.0,
          21035.0,
          7078.0,
          153.0,
          1361.0,
          102595.0,
          1350329.0,
          34093.0,
          138.0,
          119479.0,
          16830.0,
          5017.0,
          1404.0,
          23777.0,
          14210.0,
          3164.0,
          17672.0,
          125.0,
          846.0,
          33918.0,
          138.0,
          290.0,
          13.0,
          4355.0,
          29341.0,
          101492.0,
          38.0,
          null,
          3630.0,
          119283.0,
          2349.0,
          219948.0,
          1123836.0,
          2608854.0,
          7617.0,
          1637.0,
          14.0,
          null,
          5854.0,
          43186.0,
          7.0,
          6881575.0,
          2159.0,
          4057.0,
          5671.0
         ],
         "yaxis": "y",
         "type": "scatter"
        }
       ],
       "layout": {
        "template": {
         "data": {
          "histogram2dcontour": [
           {
            "type": "histogram2dcontour",
            "colorbar": {
             "outlinewidth": 0,
             "ticks": ""
            },
            "colorscale": [
             [
              0.0,
              "#0d0887"
             ],
             [
              0.1111111111111111,
              "#46039f"
             ],
             [
              0.2222222222222222,
              "#7201a8"
             ],
             [
              0.3333333333333333,
              "#9c179e"
             ],
             [
              0.4444444444444444,
              "#bd3786"
             ],
             [
              0.5555555555555556,
              "#d8576b"
             ],
             [
              0.6666666666666666,
              "#ed7953"
             ],
             [
              0.7777777777777778,
              "#fb9f3a"
             ],
             [
              0.8888888888888888,
              "#fdca26"
             ],
             [
              1.0,
              "#f0f921"
             ]
            ]
           }
          ],
          "choropleth": [
           {
            "type": "choropleth",
            "colorbar": {
             "outlinewidth": 0,
             "ticks": ""
            }
           }
          ],
          "histogram2d": [
           {
            "type": "histogram2d",
            "colorbar": {
             "outlinewidth": 0,
             "ticks": ""
            },
            "colorscale": [
             [
              0.0,
              "#0d0887"
             ],
             [
              0.1111111111111111,
              "#46039f"
             ],
             [
              0.2222222222222222,
              "#7201a8"
             ],
             [
              0.3333333333333333,
              "#9c179e"
             ],
             [
              0.4444444444444444,
              "#bd3786"
             ],
             [
              0.5555555555555556,
              "#d8576b"
             ],
             [
              0.6666666666666666,
              "#ed7953"
             ],
             [
              0.7777777777777778,
              "#fb9f3a"
             ],
             [
              0.8888888888888888,
              "#fdca26"
             ],
             [
              1.0,
              "#f0f921"
             ]
            ]
           }
          ],
          "heatmap": [
           {
            "type": "heatmap",
            "colorbar": {
             "outlinewidth": 0,
             "ticks": ""
            },
            "colorscale": [
             [
              0.0,
              "#0d0887"
             ],
             [
              0.1111111111111111,
              "#46039f"
             ],
             [
              0.2222222222222222,
              "#7201a8"
             ],
             [
              0.3333333333333333,
              "#9c179e"
             ],
             [
              0.4444444444444444,
              "#bd3786"
             ],
             [
              0.5555555555555556,
              "#d8576b"
             ],
             [
              0.6666666666666666,
              "#ed7953"
             ],
             [
              0.7777777777777778,
              "#fb9f3a"
             ],
             [
              0.8888888888888888,
              "#fdca26"
             ],
             [
              1.0,
              "#f0f921"
             ]
            ]
           }
          ],
          "heatmapgl": [
           {
            "type": "heatmapgl",
            "colorbar": {
             "outlinewidth": 0,
             "ticks": ""
            },
            "colorscale": [
             [
              0.0,
              "#0d0887"
             ],
             [
              0.1111111111111111,
              "#46039f"
             ],
             [
              0.2222222222222222,
              "#7201a8"
             ],
             [
              0.3333333333333333,
              "#9c179e"
             ],
             [
              0.4444444444444444,
              "#bd3786"
             ],
             [
              0.5555555555555556,
              "#d8576b"
             ],
             [
              0.6666666666666666,
              "#ed7953"
             ],
             [
              0.7777777777777778,
              "#fb9f3a"
             ],
             [
              0.8888888888888888,
              "#fdca26"
             ],
             [
              1.0,
              "#f0f921"
             ]
            ]
           }
          ],
          "contourcarpet": [
           {
            "type": "contourcarpet",
            "colorbar": {
             "outlinewidth": 0,
             "ticks": ""
            }
           }
          ],
          "contour": [
           {
            "type": "contour",
            "colorbar": {
             "outlinewidth": 0,
             "ticks": ""
            },
            "colorscale": [
             [
              0.0,
              "#0d0887"
             ],
             [
              0.1111111111111111,
              "#46039f"
             ],
             [
              0.2222222222222222,
              "#7201a8"
             ],
             [
              0.3333333333333333,
              "#9c179e"
             ],
             [
              0.4444444444444444,
              "#bd3786"
             ],
             [
              0.5555555555555556,
              "#d8576b"
             ],
             [
              0.6666666666666666,
              "#ed7953"
             ],
             [
              0.7777777777777778,
              "#fb9f3a"
             ],
             [
              0.8888888888888888,
              "#fdca26"
             ],
             [
              1.0,
              "#f0f921"
             ]
            ]
           }
          ],
          "surface": [
           {
            "type": "surface",
            "colorbar": {
             "outlinewidth": 0,
             "ticks": ""
            },
            "colorscale": [
             [
              0.0,
              "#0d0887"
             ],
             [
              0.1111111111111111,
              "#46039f"
             ],
             [
              0.2222222222222222,
              "#7201a8"
             ],
             [
              0.3333333333333333,
              "#9c179e"
             ],
             [
              0.4444444444444444,
              "#bd3786"
             ],
             [
              0.5555555555555556,
              "#d8576b"
             ],
             [
              0.6666666666666666,
              "#ed7953"
             ],
             [
              0.7777777777777778,
              "#fb9f3a"
             ],
             [
              0.8888888888888888,
              "#fdca26"
             ],
             [
              1.0,
              "#f0f921"
             ]
            ]
           }
          ],
          "mesh3d": [
           {
            "type": "mesh3d",
            "colorbar": {
             "outlinewidth": 0,
             "ticks": ""
            }
           }
          ],
          "scatter": [
           {
            "fillpattern": {
             "fillmode": "overlay",
             "size": 10,
             "solidity": 0.2
            },
            "type": "scatter"
           }
          ],
          "parcoords": [
           {
            "type": "parcoords",
            "line": {
             "colorbar": {
              "outlinewidth": 0,
              "ticks": ""
             }
            }
           }
          ],
          "scatterpolargl": [
           {
            "type": "scatterpolargl",
            "marker": {
             "colorbar": {
              "outlinewidth": 0,
              "ticks": ""
             }
            }
           }
          ],
          "bar": [
           {
            "error_x": {
             "color": "#2a3f5f"
            },
            "error_y": {
             "color": "#2a3f5f"
            },
            "marker": {
             "line": {
              "color": "#E5ECF6",
              "width": 0.5
             },
             "pattern": {
              "fillmode": "overlay",
              "size": 10,
              "solidity": 0.2
             }
            },
            "type": "bar"
           }
          ],
          "scattergeo": [
           {
            "type": "scattergeo",
            "marker": {
             "colorbar": {
              "outlinewidth": 0,
              "ticks": ""
             }
            }
           }
          ],
          "scatterpolar": [
           {
            "type": "scatterpolar",
            "marker": {
             "colorbar": {
              "outlinewidth": 0,
              "ticks": ""
             }
            }
           }
          ],
          "histogram": [
           {
            "marker": {
             "pattern": {
              "fillmode": "overlay",
              "size": 10,
              "solidity": 0.2
             }
            },
            "type": "histogram"
           }
          ],
          "scattergl": [
           {
            "type": "scattergl",
            "marker": {
             "colorbar": {
              "outlinewidth": 0,
              "ticks": ""
             }
            }
           }
          ],
          "scatter3d": [
           {
            "type": "scatter3d",
            "line": {
             "colorbar": {
              "outlinewidth": 0,
              "ticks": ""
             }
            },
            "marker": {
             "colorbar": {
              "outlinewidth": 0,
              "ticks": ""
             }
            }
           }
          ],
          "scattermapbox": [
           {
            "type": "scattermapbox",
            "marker": {
             "colorbar": {
              "outlinewidth": 0,
              "ticks": ""
             }
            }
           }
          ],
          "scatterternary": [
           {
            "type": "scatterternary",
            "marker": {
             "colorbar": {
              "outlinewidth": 0,
              "ticks": ""
             }
            }
           }
          ],
          "scattercarpet": [
           {
            "type": "scattercarpet",
            "marker": {
             "colorbar": {
              "outlinewidth": 0,
              "ticks": ""
             }
            }
           }
          ],
          "carpet": [
           {
            "aaxis": {
             "endlinecolor": "#2a3f5f",
             "gridcolor": "white",
             "linecolor": "white",
             "minorgridcolor": "white",
             "startlinecolor": "#2a3f5f"
            },
            "baxis": {
             "endlinecolor": "#2a3f5f",
             "gridcolor": "white",
             "linecolor": "white",
             "minorgridcolor": "white",
             "startlinecolor": "#2a3f5f"
            },
            "type": "carpet"
           }
          ],
          "table": [
           {
            "cells": {
             "fill": {
              "color": "#EBF0F8"
             },
             "line": {
              "color": "white"
             }
            },
            "header": {
             "fill": {
              "color": "#C8D4E3"
             },
             "line": {
              "color": "white"
             }
            },
            "type": "table"
           }
          ],
          "barpolar": [
           {
            "marker": {
             "line": {
              "color": "#E5ECF6",
              "width": 0.5
             },
             "pattern": {
              "fillmode": "overlay",
              "size": 10,
              "solidity": 0.2
             }
            },
            "type": "barpolar"
           }
          ],
          "pie": [
           {
            "automargin": true,
            "type": "pie"
           }
          ]
         },
         "layout": {
          "autotypenumbers": "strict",
          "colorway": [
           "#636efa",
           "#EF553B",
           "#00cc96",
           "#ab63fa",
           "#FFA15A",
           "#19d3f3",
           "#FF6692",
           "#B6E880",
           "#FF97FF",
           "#FECB52"
          ],
          "font": {
           "color": "#2a3f5f"
          },
          "hovermode": "closest",
          "hoverlabel": {
           "align": "left"
          },
          "paper_bgcolor": "white",
          "plot_bgcolor": "#E5ECF6",
          "polar": {
           "bgcolor": "#E5ECF6",
           "angularaxis": {
            "gridcolor": "white",
            "linecolor": "white",
            "ticks": ""
           },
           "radialaxis": {
            "gridcolor": "white",
            "linecolor": "white",
            "ticks": ""
           }
          },
          "ternary": {
           "bgcolor": "#E5ECF6",
           "aaxis": {
            "gridcolor": "white",
            "linecolor": "white",
            "ticks": ""
           },
           "baxis": {
            "gridcolor": "white",
            "linecolor": "white",
            "ticks": ""
           },
           "caxis": {
            "gridcolor": "white",
            "linecolor": "white",
            "ticks": ""
           }
          },
          "coloraxis": {
           "colorbar": {
            "outlinewidth": 0,
            "ticks": ""
           }
          },
          "colorscale": {
           "sequential": [
            [
             0.0,
             "#0d0887"
            ],
            [
             0.1111111111111111,
             "#46039f"
            ],
            [
             0.2222222222222222,
             "#7201a8"
            ],
            [
             0.3333333333333333,
             "#9c179e"
            ],
            [
             0.4444444444444444,
             "#bd3786"
            ],
            [
             0.5555555555555556,
             "#d8576b"
            ],
            [
             0.6666666666666666,
             "#ed7953"
            ],
            [
             0.7777777777777778,
             "#fb9f3a"
            ],
            [
             0.8888888888888888,
             "#fdca26"
            ],
            [
             1.0,
             "#f0f921"
            ]
           ],
           "sequentialminus": [
            [
             0.0,
             "#0d0887"
            ],
            [
             0.1111111111111111,
             "#46039f"
            ],
            [
             0.2222222222222222,
             "#7201a8"
            ],
            [
             0.3333333333333333,
             "#9c179e"
            ],
            [
             0.4444444444444444,
             "#bd3786"
            ],
            [
             0.5555555555555556,
             "#d8576b"
            ],
            [
             0.6666666666666666,
             "#ed7953"
            ],
            [
             0.7777777777777778,
             "#fb9f3a"
            ],
            [
             0.8888888888888888,
             "#fdca26"
            ],
            [
             1.0,
             "#f0f921"
            ]
           ],
           "diverging": [
            [
             0,
             "#8e0152"
            ],
            [
             0.1,
             "#c51b7d"
            ],
            [
             0.2,
             "#de77ae"
            ],
            [
             0.3,
             "#f1b6da"
            ],
            [
             0.4,
             "#fde0ef"
            ],
            [
             0.5,
             "#f7f7f7"
            ],
            [
             0.6,
             "#e6f5d0"
            ],
            [
             0.7,
             "#b8e186"
            ],
            [
             0.8,
             "#7fbc41"
            ],
            [
             0.9,
             "#4d9221"
            ],
            [
             1,
             "#276419"
            ]
           ]
          },
          "xaxis": {
           "gridcolor": "white",
           "linecolor": "white",
           "ticks": "",
           "title": {
            "standoff": 15
           },
           "zerolinecolor": "white",
           "automargin": true,
           "zerolinewidth": 2
          },
          "yaxis": {
           "gridcolor": "white",
           "linecolor": "white",
           "ticks": "",
           "title": {
            "standoff": 15
           },
           "zerolinecolor": "white",
           "automargin": true,
           "zerolinewidth": 2
          },
          "scene": {
           "xaxis": {
            "backgroundcolor": "#E5ECF6",
            "gridcolor": "white",
            "linecolor": "white",
            "showbackground": true,
            "ticks": "",
            "zerolinecolor": "white",
            "gridwidth": 2
           },
           "yaxis": {
            "backgroundcolor": "#E5ECF6",
            "gridcolor": "white",
            "linecolor": "white",
            "showbackground": true,
            "ticks": "",
            "zerolinecolor": "white",
            "gridwidth": 2
           },
           "zaxis": {
            "backgroundcolor": "#E5ECF6",
            "gridcolor": "white",
            "linecolor": "white",
            "showbackground": true,
            "ticks": "",
            "zerolinecolor": "white",
            "gridwidth": 2
           }
          },
          "shapedefaults": {
           "line": {
            "color": "#2a3f5f"
           }
          },
          "annotationdefaults": {
           "arrowcolor": "#2a3f5f",
           "arrowhead": 0,
           "arrowwidth": 1
          },
          "geo": {
           "bgcolor": "white",
           "landcolor": "#E5ECF6",
           "subunitcolor": "white",
           "showland": true,
           "showlakes": true,
           "lakecolor": "white"
          },
          "title": {
           "x": 0.05
          },
          "mapbox": {
           "style": "light"
          }
         }
        },
        "xaxis": {
         "anchor": "y",
         "domain": [
          0.0,
          1.0
         ],
         "title": {
          "text": "Total Cases"
         }
        },
        "yaxis": {
         "anchor": "x",
         "domain": [
          0.0,
          1.0
         ],
         "title": {
          "text": "Total Deaths"
         }
        },
        "legend": {
         "tracegroupgap": 0
        },
        "title": {
         "text": "Scatter Plot of Total Cases vs Total Deaths on 2023-03-09"
        }
       },
       "config": {
        "plotlyServerURL": "https://plot.ly"
       }
      },
      "text/html": "<div>                            <div id=\"afefa24d-38cd-440c-968b-9fa57c745e86\" class=\"plotly-graph-div\" style=\"height:525px; width:100%;\"></div>            <script type=\"text/javascript\">                require([\"plotly\"], function(Plotly) {                    window.PLOTLYENV=window.PLOTLYENV || {};                                    if (document.getElementById(\"afefa24d-38cd-440c-968b-9fa57c745e86\")) {                    Plotly.newPlot(                        \"afefa24d-38cd-440c-968b-9fa57c745e86\",                        [{\"customdata\":[[\"Afghanistan\",3.7698554793245203],[\"Africa\",2.057590004442456],[\"Albania\",1.075773567304616],[\"Algeria\",2.534475646050034],[\"Andorra\",0.34453956984756734],[\"Angola\",1.835916723653218],[\"Anguilla\",0.3073770491803279],[\"Antigua and Barbuda\",1.6033384581594552],[\"Argentina\",1.2988806223859395],[\"Armenia\",1.951004676866946],[\"Aruba\",0.640268822087004],[\"Asia\",0.7703678376850807],[\"Australia\",0.1717098880122392],[\"Austria\",0.3685534804315213],[\"Azerbaijan\",1.2231773896781588],[\"Bahamas\",2.2218665813128484],[\"Bahrain\",0.21851910740643288],[\"Bangladesh\",1.4448902801011447],[\"Barbados\",0.5421449839884642],[\"Belarus\",0.7160699249625517],[\"Belgium\",0.7134711084712826],[\"Belize\",0.972341959099453],[\"Benin\",0.5821636487017393],[\"Bermuda\",0.8497981729339281],[\"Bhutan\",0.033531863253868144],[\"Bolivia\",1.872681128414932],[\"Bonaire Sint Eustatius and Saba\",0.3473398847848187],[\"Bosnia and Herzegovina\",4.052483141620346],[\"Botswana\",0.849410780026565],[\"Brazil\",1.8860583676477103],[\"British Virgin Islands\",0.8761122518822724],[\"Brunei\",0.0804545503305788],[\"Bulgaria\",2.946229084185791],[\"Burkina Faso\",1.7954298150163224],[\"Burundi\",0.07085454308142679],[\"Cambodia\",2.203014727614818],[\"Cameroon\",1.5796835809376808],[\"Canada\",1.1201848781539043],[\"Cape Verde\",0.6530263740433875],[\"Cayman Islands\",0.1175648195221149],[\"Central African Republic\",0.7352941176470588],[\"Chad\",2.526370621174632],[\"Chile\",1.2378555418557453],[\"China\",4.321746485999336],[\"Colombia\",2.2383538029715875],[\"Comoros\",1.7873001776198933],[\"Congo\",1.5466177701598436],[\"Cook Islands\",0.028445455838429813],[\"Costa Rica\",0.7642232738845605],[\"Cote d'Ivoire\",0.9449033003636857],[\"Croatia\",1.4170512539725808],[\"Cuba\",0.7666430292555654],[\"Curacao\",0.6545470360544514],[\"Cyprus\",0.2043999784842128],[\"Czechia\",0.920065929649634],[\"Democratic Republic of Congo\",1.5289976918818995],[\"Denmark\",0.24368414234843247],[\"Djibouti\",1.2045889101338432],[\"Dominica\",0.46954314720812185],[\"Dominican Republic\",0.6634482967357254],[\"Ecuador\",3.4068001676250876],[\"Egypt\",4.810774024302048],[\"El Salvador\",2.0962906063384295],[\"Equatorial Guinea\",1.062162632770329],[\"Eritrea\",1.0108941014819903],[\"Estonia\",0.478687363206068],[\"Eswatini\",1.9187526088303013],[\"Ethiopia\",1.5140487406921594],[\"Europe\",0.8197819255659804],[\"European Union\",0.6602708991739341],[\"Faeroe Islands\",0.08078942812626233],[\"Falkland Islands\",null],[\"Fiji\",1.2816046909924816],[\"Finland\",0.6126489774835957],[\"France\",0.416112461694715],[\"French Polynesia\",0.8314649926333996],[\"Gabon\",0.6247320389538801],[\"Gambia\",2.95284965867598],[\"Georgia\",0.9286268896334247],[\"Germany\",0.44167098485557554],[\"Ghana\",0.8538273306507659],[\"Gibraltar\",0.543238878285127],[\"Greece\",0.6268195275576928],[\"Greenland\",0.1754239411912121],[\"Grenada\",1.2093495934959348],[\"Guatemala\",1.6298848291172923],[\"Guinea\",1.2203726448375884],[\"Guinea-Bissau\",1.9642857142857142],[\"Guyana\",1.776257269928156],[\"Haiti\",2.51447283784574],[\"High income\",0.6664395381096166],[\"Honduras\",2.352779248279513],[\"Hong Kong\",0.46823726246529157],[\"Hungary\",2.2196791338690205],[\"Iceland\",0.1257548879442662],[\"India\",1.1876711456409603],[\"Indonesia\",2.388477677726701],[\"International\",2.0804438280166435],[\"Iran\",1.9139863642684514],[\"Iraq\",1.029184216876999],[\"Ireland\",0.5108823574275654],[\"Isle of Man\",0.3051989054935803],[\"Israel\",0.2566497024037517],[\"Italy\",0.7355319641720999],[\"Jamaica\",2.275670914931095],[\"Japan\",0.21907575164528148],[\"Jordan\",0.8083585718807761],[\"Kazakhstan\",1.2725300066459015],[\"Kenya\",1.65861368123008],[\"Kiribati\",0.35899481451934584],[\"Kosovo\",1.174847792998478],[\"Kuwait\",0.3871298165275811],[\"Kyrgyzstan\",1.4469686707819727],[\"Laos\",0.3476697412658298],[\"Latvia\",0.6421477994991063],[\"Lebanon\",0.8793603000580779],[\"Lesotho\",2.0781833860304686],[\"Liberia\",3.646477132262052],[\"Libya\",1.2691571353366706],[\"Liechtenstein\",0.41526689063083244],[\"Lithuania\",0.7339488836267293],[\"Low income\",2.094472692204624],[\"Lower middle income\",1.3854294096210389],[\"Luxembourg\",0.38441299820082114],[\"Macao\",3.44336937962436],[\"Madagascar\",2.0960685825391447],[\"Malawi\",3.027945934368201],[\"Malaysia\",0.7327862528688422],[\"Maldives\",0.16744015764140885],[\"Mali\",2.247292964732926],[\"Malta\",0.7040217668565598],[\"Marshall Islands\",0.10863313949773148],[\"Mauritania\",1.565935791920588],[\"Mauritius\",0.35265266414900587],[\"Mexico\",4.45233504787368],[\"Micronesia (country)\",0.2547185568732253],[\"Moldova\",1.9640344274634292],[\"Monaco\",0.41560697227219157],[\"Mongolia\",0.21192578628832226],[\"Montenegro\",0.9722722362261434],[\"Montserrat\",0.5702066999287242],[\"Morocco\",1.280638747652241],[\"Mozambique\",0.9613488041026695],[\"Myanmar\",3.0743749507058915],[\"Namibia\",2.3896328495641406],[\"Nauru\",0.01905850962454736],[\"Nepal\",1.2006144908775274],[\"Netherlands\",0.2680408468190864],[\"New Caledonia\",0.3924166114700626],[\"New Zealand\",0.1143070939933596],[\"Nicaragua\",1.5649952091983392],[\"Niger\",3.3129995793016405],[\"Nigeria\",1.1834297331562877],[\"North America\",1.2941242955393795],[\"North Korea\",600.0],[\"North Macedonia\",2.7856261460219347],[\"Norway\",0.3523473375572657],[\"Oceania\",0.17777358701262888],[\"Oman\",1.1585959659430867],[\"Pakistan\",1.9426769561008514],[\"Palau\",0.15022533800701052],[\"Palestine\",0.8116855415313383],[\"Panama\",0.8344229261309393],[\"Papua New Guinea\",1.430859583555793],[\"Paraguay\",2.458928180445101],[\"Peru\",4.8921762038242225],[\"Philippines\",1.6232686491465749],[\"Poland\",1.8465591718179786],[\"Portugal\",0.47152189769163233],[\"Qatar\",0.1389646326930457],[\"Romania\",2.024359497747491],[\"Russia\",1.7597413427826905],[\"Rwanda\",1.1021517485772632],[\"Saint Helena\",null],[\"Saint Kitts and Nevis\",0.7124450507806579],[\"Saint Lucia\",1.3631515797893614],[\"Saint Pierre and Miquelon\",0.057937427578215524],[\"Saint Vincent and the Grenadines\",1.2827197830847845],[\"Samoa\",0.17462515806587584],[\"San Marino\",0.51659891598916],[\"Sao Tome and Principe\",1.2259194395796849],[\"Saudi Arabia\",1.1586178982252113],[\"Senegal\",2.2164496322785237],[\"Serbia\",0.7151993766754048],[\"Seychelles\",0.3394848514753775],[\"Sierra Leone\",1.6237113402061858],[\"Singapore\",0.07703684615983401],[\"Slovakia\",0.7885509967756943],[\"Slovenia\",0.5314982950453816],[\"Solomon Islands\",0.6225839267548322],[\"Somalia\",4.980969111403894],[\"South Africa\",2.522579539505988],[\"South America\",1.9868392054944408],[\"South Korea\",0.11135854551165254],[\"South Sudan\",0.7513066202090593],[\"Spain\",0.8676490761471556],[\"Sri Lanka\",2.5043189457754687],[\"Sudan\",7.860063607451158],[\"Suriname\",1.702499181490778],[\"Sweden\",0.880845273602167],[\"Switzerland\",0.3219367132685729],[\"Syria\",5.505768528024779],[\"Taiwan\",0.1772350983663822],[\"Tajikistan\",0.7027999550208028],[\"Tanzania\",1.9717522024891625],[\"Thailand\",0.7173581727606932],[\"Timor\",0.5892651266066016],[\"Togo\",0.7361153416590517],[\"Tonga\",0.07733491969066032],[\"Trinidad and Tobago\",2.2930949146473742],[\"Tunisia\",2.548895603087759],[\"Turkey\",0.5955151999780316],[\"Turks and Caicos Islands\",0.5791800030483159],[\"Tuvalu\",null],[\"Uganda\",2.128482972136223],[\"Ukraine\",2.0883137728077505],[\"United Arab Emirates\",0.22303180838064096],[\"United Kingdom\",0.9004920428245893],[\"United States\",1.0826654589395948],[\"Upper middle income\",1.7984963095189446],[\"Uruguay\",0.7364379683709706],[\"Uzbekistan\",0.6515500682595216],[\"Vanuatu\",0.1165307141668054],[\"Vatican\",null],[\"Venezuela\",1.0601961018686545],[\"Vietnam\",0.3746510148265888],[\"Wallis and Futuna\",0.20426028596440038],[\"World\",1.0172811650056917],[\"Yemen\",18.07450816241105],[\"Zambia\",1.1823334839057513],[\"Zimbabwe\",2.1458626587355645]],\"hovertemplate\":\"Total Cases=%{x}<br>Total Deaths=%{y}<br>Country/Region=%{customdata[0]}<br>Case-Fatality Rate (%)=%{customdata[1]}<extra></extra>\",\"legendgroup\":\"\",\"marker\":{\"color\":\"#636efa\",\"symbol\":\"circle\"},\"mode\":\"markers\",\"name\":\"\",\"orientation\":\"v\",\"showlegend\":false,\"x\":[209451.0,12524604.0,334457.0,271496.0,47890.0,105288.0,3904.0,9106.0,10044957.0,447308.0,44044.0,210767366.0,11399460.0,5961143.0,828825.0,37491.0,710693.0,2037871.0,106798.0,994037.0,4739365.0,70757.0,27999.0,18828.0,62627.0,1194277.0,11804.0,401729.0,329758.0,37076053.0,7305.0,279661.0,1297523.0,22056.0,53631.0,138719.0,124392.0,4617095.0,63244.0,31472.0,15368.0,7679.0,5192286.0,2023904.0,6359093.0,9008.0,25087.0,7031.0,1209725.0,88263.0,1269326.0,1112643.0,45986.0,650685.0,4618256.0,95749.0,3404407.0,15690.0,15760.0,660790.0,1057121.0,515759.0,201785.0,17229.0,10189.0,615433.0,74267.0,500116.0,248452416.0,184184098.0,34658.0,1930.0,68898.0,1463644.0,39701767.0,78055.0,48981.0,12598.0,1827537.0,38249060.0,171229.0,20433.0,5548487.0,11971.0,19680.0,1238247.0,38267.0,8960.0,73075.0,34202.0,431911049.0,472250.0,2876106.0,2196804.0,209137.0,44690738.0,6738225.0,721.0,7572311.0,2465545.0,1704502.0,38008.0,4803824.0,25603510.0,154416.0,33320438.0,1746997.0,1498668.0,342937.0,5014.0,273312.0,663860.0,206708.0,218023.0,976255.0,1232828.0,34790.0,8090.0,507187.0,21432.0,1307448.0,2287497.0,97175431.0,317367.0,3514.0,67889.0,88707.0,5044718.0,185738.0,33062.0,117610.0,15649.0,63668.0,296042.0,7483444.0,23948.0,611140.0,16121.0,1007900.0,288808.0,1403.0,1272490.0,233214.0,633950.0,171156.0,5247.0,1001154.0,8611001.0,80017.0,2229083.0,15655.0,9508.0,266598.0,122717115.0,1.0,346852.0,1479506.0,14041456.0,399449.0,1577411.0,5991.0,703228.0,1031731.0,46825.0,808401.0,4487553.0,4077452.0,6444960.0,5570473.0,495090.0,3346046.0,22075858.0,133194.0,2166.0,6597.0,30004.0,3452.0,9589.0,16607.0,23616.0,6281.0,830127.0,88926.0,2500142.0,50665.0,7760.0,2235294.0,2667551.0,1331707.0,24575.0,27324.0,4067067.0,67963678.0,30615522.0,18368.0,13770429.0,672039.0,63829.0,82467.0,2699339.0,4413911.0,57467.0,9970937.0,17786.0,42906.0,4728182.0,23419.0,39396.0,16810.0,189918.0,1151126.0,17042722.0,6561.0,2805.0,170544.0,5711929.0,1053213.0,24425313.0,103802702.0,145057512.0,1034303.0,251247.0,12014.0,29.0,552162.0,11526994.0,3427.0,676467356.0,11945.0,343135.0,264276.0],\"xaxis\":\"x\",\"y\":[7896.0,257705.0,3598.0,6881.0,165.0,1933.0,12.0,146.0,130472.0,8727.0,282.0,1623684.0,19574.0,21970.0,10138.0,833.0,1553.0,29445.0,579.0,7118.0,33814.0,688.0,163.0,160.0,21.0,22365.0,41.0,16280.0,2801.0,699276.0,64.0,225.0,38228.0,396.0,38.0,3056.0,1965.0,51720.0,413.0,37.0,113.0,194.0,64273.0,87468.0,142339.0,161.0,388.0,2.0,9245.0,834.0,17987.0,8530.0,301.0,1330.0,42491.0,1464.0,8296.0,189.0,74.0,4384.0,36014.0,24812.0,4230.0,183.0,103.0,2946.0,1425.0,7572.0,2036768.0,1216114.0,28.0,null,883.0,8967.0,165204.0,649.0,306.0,372.0,16971.0,168935.0,1462.0,111.0,34779.0,21.0,238.0,20182.0,467.0,176.0,1298.0,860.0,2878426.0,11111.0,13467.0,48762.0,263.0,530779.0,160941.0,15.0,144933.0,25375.0,8708.0,116.0,12329.0,188322.0,3514.0,72997.0,14122.0,19071.0,5688.0,18.0,3211.0,2570.0,2991.0,758.0,6269.0,10841.0,723.0,295.0,6437.0,89.0,9596.0,47911.0,1346297.0,1220.0,121.0,1423.0,2686.0,36967.0,311.0,743.0,828.0,17.0,997.0,1044.0,333188.0,61.0,12003.0,67.0,2136.0,2808.0,8.0,16296.0,2242.0,19490.0,4090.0,1.0,12020.0,23081.0,314.0,2548.0,245.0,315.0,3155.0,1588112.0,6.0,9662.0,5213.0,24962.0,4628.0,30644.0,9.0,5708.0,8609.0,670.0,19878.0,219539.0,66188.0,119010.0,26266.0,688.0,67736.0,388478.0,1468.0,null,47.0,409.0,2.0,123.0,29.0,122.0,77.0,9618.0,1971.0,17881.0,172.0,126.0,1722.0,21035.0,7078.0,153.0,1361.0,102595.0,1350329.0,34093.0,138.0,119479.0,16830.0,5017.0,1404.0,23777.0,14210.0,3164.0,17672.0,125.0,846.0,33918.0,138.0,290.0,13.0,4355.0,29341.0,101492.0,38.0,null,3630.0,119283.0,2349.0,219948.0,1123836.0,2608854.0,7617.0,1637.0,14.0,null,5854.0,43186.0,7.0,6881575.0,2159.0,4057.0,5671.0],\"yaxis\":\"y\",\"type\":\"scatter\"}],                        {\"template\":{\"data\":{\"histogram2dcontour\":[{\"type\":\"histogram2dcontour\",\"colorbar\":{\"outlinewidth\":0,\"ticks\":\"\"},\"colorscale\":[[0.0,\"#0d0887\"],[0.1111111111111111,\"#46039f\"],[0.2222222222222222,\"#7201a8\"],[0.3333333333333333,\"#9c179e\"],[0.4444444444444444,\"#bd3786\"],[0.5555555555555556,\"#d8576b\"],[0.6666666666666666,\"#ed7953\"],[0.7777777777777778,\"#fb9f3a\"],[0.8888888888888888,\"#fdca26\"],[1.0,\"#f0f921\"]]}],\"choropleth\":[{\"type\":\"choropleth\",\"colorbar\":{\"outlinewidth\":0,\"ticks\":\"\"}}],\"histogram2d\":[{\"type\":\"histogram2d\",\"colorbar\":{\"outlinewidth\":0,\"ticks\":\"\"},\"colorscale\":[[0.0,\"#0d0887\"],[0.1111111111111111,\"#46039f\"],[0.2222222222222222,\"#7201a8\"],[0.3333333333333333,\"#9c179e\"],[0.4444444444444444,\"#bd3786\"],[0.5555555555555556,\"#d8576b\"],[0.6666666666666666,\"#ed7953\"],[0.7777777777777778,\"#fb9f3a\"],[0.8888888888888888,\"#fdca26\"],[1.0,\"#f0f921\"]]}],\"heatmap\":[{\"type\":\"heatmap\",\"colorbar\":{\"outlinewidth\":0,\"ticks\":\"\"},\"colorscale\":[[0.0,\"#0d0887\"],[0.1111111111111111,\"#46039f\"],[0.2222222222222222,\"#7201a8\"],[0.3333333333333333,\"#9c179e\"],[0.4444444444444444,\"#bd3786\"],[0.5555555555555556,\"#d8576b\"],[0.6666666666666666,\"#ed7953\"],[0.7777777777777778,\"#fb9f3a\"],[0.8888888888888888,\"#fdca26\"],[1.0,\"#f0f921\"]]}],\"heatmapgl\":[{\"type\":\"heatmapgl\",\"colorbar\":{\"outlinewidth\":0,\"ticks\":\"\"},\"colorscale\":[[0.0,\"#0d0887\"],[0.1111111111111111,\"#46039f\"],[0.2222222222222222,\"#7201a8\"],[0.3333333333333333,\"#9c179e\"],[0.4444444444444444,\"#bd3786\"],[0.5555555555555556,\"#d8576b\"],[0.6666666666666666,\"#ed7953\"],[0.7777777777777778,\"#fb9f3a\"],[0.8888888888888888,\"#fdca26\"],[1.0,\"#f0f921\"]]}],\"contourcarpet\":[{\"type\":\"contourcarpet\",\"colorbar\":{\"outlinewidth\":0,\"ticks\":\"\"}}],\"contour\":[{\"type\":\"contour\",\"colorbar\":{\"outlinewidth\":0,\"ticks\":\"\"},\"colorscale\":[[0.0,\"#0d0887\"],[0.1111111111111111,\"#46039f\"],[0.2222222222222222,\"#7201a8\"],[0.3333333333333333,\"#9c179e\"],[0.4444444444444444,\"#bd3786\"],[0.5555555555555556,\"#d8576b\"],[0.6666666666666666,\"#ed7953\"],[0.7777777777777778,\"#fb9f3a\"],[0.8888888888888888,\"#fdca26\"],[1.0,\"#f0f921\"]]}],\"surface\":[{\"type\":\"surface\",\"colorbar\":{\"outlinewidth\":0,\"ticks\":\"\"},\"colorscale\":[[0.0,\"#0d0887\"],[0.1111111111111111,\"#46039f\"],[0.2222222222222222,\"#7201a8\"],[0.3333333333333333,\"#9c179e\"],[0.4444444444444444,\"#bd3786\"],[0.5555555555555556,\"#d8576b\"],[0.6666666666666666,\"#ed7953\"],[0.7777777777777778,\"#fb9f3a\"],[0.8888888888888888,\"#fdca26\"],[1.0,\"#f0f921\"]]}],\"mesh3d\":[{\"type\":\"mesh3d\",\"colorbar\":{\"outlinewidth\":0,\"ticks\":\"\"}}],\"scatter\":[{\"fillpattern\":{\"fillmode\":\"overlay\",\"size\":10,\"solidity\":0.2},\"type\":\"scatter\"}],\"parcoords\":[{\"type\":\"parcoords\",\"line\":{\"colorbar\":{\"outlinewidth\":0,\"ticks\":\"\"}}}],\"scatterpolargl\":[{\"type\":\"scatterpolargl\",\"marker\":{\"colorbar\":{\"outlinewidth\":0,\"ticks\":\"\"}}}],\"bar\":[{\"error_x\":{\"color\":\"#2a3f5f\"},\"error_y\":{\"color\":\"#2a3f5f\"},\"marker\":{\"line\":{\"color\":\"#E5ECF6\",\"width\":0.5},\"pattern\":{\"fillmode\":\"overlay\",\"size\":10,\"solidity\":0.2}},\"type\":\"bar\"}],\"scattergeo\":[{\"type\":\"scattergeo\",\"marker\":{\"colorbar\":{\"outlinewidth\":0,\"ticks\":\"\"}}}],\"scatterpolar\":[{\"type\":\"scatterpolar\",\"marker\":{\"colorbar\":{\"outlinewidth\":0,\"ticks\":\"\"}}}],\"histogram\":[{\"marker\":{\"pattern\":{\"fillmode\":\"overlay\",\"size\":10,\"solidity\":0.2}},\"type\":\"histogram\"}],\"scattergl\":[{\"type\":\"scattergl\",\"marker\":{\"colorbar\":{\"outlinewidth\":0,\"ticks\":\"\"}}}],\"scatter3d\":[{\"type\":\"scatter3d\",\"line\":{\"colorbar\":{\"outlinewidth\":0,\"ticks\":\"\"}},\"marker\":{\"colorbar\":{\"outlinewidth\":0,\"ticks\":\"\"}}}],\"scattermapbox\":[{\"type\":\"scattermapbox\",\"marker\":{\"colorbar\":{\"outlinewidth\":0,\"ticks\":\"\"}}}],\"scatterternary\":[{\"type\":\"scatterternary\",\"marker\":{\"colorbar\":{\"outlinewidth\":0,\"ticks\":\"\"}}}],\"scattercarpet\":[{\"type\":\"scattercarpet\",\"marker\":{\"colorbar\":{\"outlinewidth\":0,\"ticks\":\"\"}}}],\"carpet\":[{\"aaxis\":{\"endlinecolor\":\"#2a3f5f\",\"gridcolor\":\"white\",\"linecolor\":\"white\",\"minorgridcolor\":\"white\",\"startlinecolor\":\"#2a3f5f\"},\"baxis\":{\"endlinecolor\":\"#2a3f5f\",\"gridcolor\":\"white\",\"linecolor\":\"white\",\"minorgridcolor\":\"white\",\"startlinecolor\":\"#2a3f5f\"},\"type\":\"carpet\"}],\"table\":[{\"cells\":{\"fill\":{\"color\":\"#EBF0F8\"},\"line\":{\"color\":\"white\"}},\"header\":{\"fill\":{\"color\":\"#C8D4E3\"},\"line\":{\"color\":\"white\"}},\"type\":\"table\"}],\"barpolar\":[{\"marker\":{\"line\":{\"color\":\"#E5ECF6\",\"width\":0.5},\"pattern\":{\"fillmode\":\"overlay\",\"size\":10,\"solidity\":0.2}},\"type\":\"barpolar\"}],\"pie\":[{\"automargin\":true,\"type\":\"pie\"}]},\"layout\":{\"autotypenumbers\":\"strict\",\"colorway\":[\"#636efa\",\"#EF553B\",\"#00cc96\",\"#ab63fa\",\"#FFA15A\",\"#19d3f3\",\"#FF6692\",\"#B6E880\",\"#FF97FF\",\"#FECB52\"],\"font\":{\"color\":\"#2a3f5f\"},\"hovermode\":\"closest\",\"hoverlabel\":{\"align\":\"left\"},\"paper_bgcolor\":\"white\",\"plot_bgcolor\":\"#E5ECF6\",\"polar\":{\"bgcolor\":\"#E5ECF6\",\"angularaxis\":{\"gridcolor\":\"white\",\"linecolor\":\"white\",\"ticks\":\"\"},\"radialaxis\":{\"gridcolor\":\"white\",\"linecolor\":\"white\",\"ticks\":\"\"}},\"ternary\":{\"bgcolor\":\"#E5ECF6\",\"aaxis\":{\"gridcolor\":\"white\",\"linecolor\":\"white\",\"ticks\":\"\"},\"baxis\":{\"gridcolor\":\"white\",\"linecolor\":\"white\",\"ticks\":\"\"},\"caxis\":{\"gridcolor\":\"white\",\"linecolor\":\"white\",\"ticks\":\"\"}},\"coloraxis\":{\"colorbar\":{\"outlinewidth\":0,\"ticks\":\"\"}},\"colorscale\":{\"sequential\":[[0.0,\"#0d0887\"],[0.1111111111111111,\"#46039f\"],[0.2222222222222222,\"#7201a8\"],[0.3333333333333333,\"#9c179e\"],[0.4444444444444444,\"#bd3786\"],[0.5555555555555556,\"#d8576b\"],[0.6666666666666666,\"#ed7953\"],[0.7777777777777778,\"#fb9f3a\"],[0.8888888888888888,\"#fdca26\"],[1.0,\"#f0f921\"]],\"sequentialminus\":[[0.0,\"#0d0887\"],[0.1111111111111111,\"#46039f\"],[0.2222222222222222,\"#7201a8\"],[0.3333333333333333,\"#9c179e\"],[0.4444444444444444,\"#bd3786\"],[0.5555555555555556,\"#d8576b\"],[0.6666666666666666,\"#ed7953\"],[0.7777777777777778,\"#fb9f3a\"],[0.8888888888888888,\"#fdca26\"],[1.0,\"#f0f921\"]],\"diverging\":[[0,\"#8e0152\"],[0.1,\"#c51b7d\"],[0.2,\"#de77ae\"],[0.3,\"#f1b6da\"],[0.4,\"#fde0ef\"],[0.5,\"#f7f7f7\"],[0.6,\"#e6f5d0\"],[0.7,\"#b8e186\"],[0.8,\"#7fbc41\"],[0.9,\"#4d9221\"],[1,\"#276419\"]]},\"xaxis\":{\"gridcolor\":\"white\",\"linecolor\":\"white\",\"ticks\":\"\",\"title\":{\"standoff\":15},\"zerolinecolor\":\"white\",\"automargin\":true,\"zerolinewidth\":2},\"yaxis\":{\"gridcolor\":\"white\",\"linecolor\":\"white\",\"ticks\":\"\",\"title\":{\"standoff\":15},\"zerolinecolor\":\"white\",\"automargin\":true,\"zerolinewidth\":2},\"scene\":{\"xaxis\":{\"backgroundcolor\":\"#E5ECF6\",\"gridcolor\":\"white\",\"linecolor\":\"white\",\"showbackground\":true,\"ticks\":\"\",\"zerolinecolor\":\"white\",\"gridwidth\":2},\"yaxis\":{\"backgroundcolor\":\"#E5ECF6\",\"gridcolor\":\"white\",\"linecolor\":\"white\",\"showbackground\":true,\"ticks\":\"\",\"zerolinecolor\":\"white\",\"gridwidth\":2},\"zaxis\":{\"backgroundcolor\":\"#E5ECF6\",\"gridcolor\":\"white\",\"linecolor\":\"white\",\"showbackground\":true,\"ticks\":\"\",\"zerolinecolor\":\"white\",\"gridwidth\":2}},\"shapedefaults\":{\"line\":{\"color\":\"#2a3f5f\"}},\"annotationdefaults\":{\"arrowcolor\":\"#2a3f5f\",\"arrowhead\":0,\"arrowwidth\":1},\"geo\":{\"bgcolor\":\"white\",\"landcolor\":\"#E5ECF6\",\"subunitcolor\":\"white\",\"showland\":true,\"showlakes\":true,\"lakecolor\":\"white\"},\"title\":{\"x\":0.05},\"mapbox\":{\"style\":\"light\"}}},\"xaxis\":{\"anchor\":\"y\",\"domain\":[0.0,1.0],\"title\":{\"text\":\"Total Cases\"}},\"yaxis\":{\"anchor\":\"x\",\"domain\":[0.0,1.0],\"title\":{\"text\":\"Total Deaths\"}},\"legend\":{\"tracegroupgap\":0},\"title\":{\"text\":\"Scatter Plot of Total Cases vs Total Deaths on 2023-03-09\"}},                        {\"responsive\": true}                    ).then(function(){\n                            \nvar gd = document.getElementById('afefa24d-38cd-440c-968b-9fa57c745e86');\nvar x = new MutationObserver(function (mutations, observer) {{\n        var display = window.getComputedStyle(gd).display;\n        if (!display || display === 'none') {{\n            console.log([gd, 'removed!']);\n            Plotly.purge(gd);\n            observer.disconnect();\n        }}\n}});\n\n// Listen for the removal of the full notebook cells\nvar notebookContainer = gd.closest('#notebook-container');\nif (notebookContainer) {{\n    x.observe(notebookContainer, {childList: true});\n}}\n\n// Listen for the clearing of the current output cell\nvar outputEl = gd.closest('.output');\nif (outputEl) {{\n    x.observe(outputEl, {childList: true});\n}}\n\n                        })                };                });            </script>        </div>"
     },
     "metadata": {},
     "output_type": "display_data"
    }
   ],
   "source": [
    "import plotly.express as px\n",
    "\n",
    "# Calculate case-fatality rate\n",
    "latest_data['case_fatality_rate'] = (latest_data['total_deaths'] / latest_data['total_cases']) * 100\n",
    "\n",
    "# Create scatter plot\n",
    "fig = px.scatter(\n",
    "    latest_data,\n",
    "    x='total_cases',\n",
    "    y='total_deaths',\n",
    "    hover_data=['location', 'case_fatality_rate'],\n",
    "    labels={\n",
    "        'total_cases': 'Total Cases',\n",
    "        'total_deaths': 'Total Deaths',\n",
    "        'location': 'Country/Region',\n",
    "        'case_fatality_rate': 'Case-Fatality Rate (%)'\n",
    "    },\n",
    "    title=f\"Scatter Plot of Total Cases vs Total Deaths on {latest_date}\"\n",
    ")\n",
    "\n",
    "# Show the plot\n",
    "fig.show()"
   ],
   "metadata": {
    "collapsed": false,
    "ExecuteTime": {
     "end_time": "2023-10-19T10:41:42.206931Z",
     "start_time": "2023-10-19T10:41:42.193725Z"
    }
   }
  }
 ],
 "metadata": {
  "kernelspec": {
   "display_name": "Python 3 (ipykernel)",
   "language": "python",
   "name": "python3"
  },
  "language_info": {
   "codemirror_mode": {
    "name": "ipython",
    "version": 3
   },
   "file_extension": ".py",
   "mimetype": "text/x-python",
   "name": "python",
   "nbconvert_exporter": "python",
   "pygments_lexer": "ipython3",
   "version": "3.10.9"
  },
  "latex_envs": {
   "LaTeX_envs_menu_present": true,
   "autoclose": false,
   "autocomplete": true,
   "bibliofile": "biblio.bib",
   "cite_by": "apalike",
   "current_citInitial": 1,
   "eqLabelWithNumbers": true,
   "eqNumInitial": 1,
   "hotkeys": {
    "equation": "Ctrl-E",
    "itemize": "Ctrl-I"
   },
   "labels_anchors": false,
   "latex_user_defs": false,
   "report_style_numbering": false,
   "user_envs_cfg": false
  },
  "toc": {
   "base_numbering": 1,
   "nav_menu": {},
   "number_sections": true,
   "sideBar": true,
   "skip_h1_title": false,
   "title_cell": "Table of Contents",
   "title_sidebar": "Contents",
   "toc_cell": false,
   "toc_position": {},
   "toc_section_display": true,
   "toc_window_display": false
  },
  "vscode": {
   "interpreter": {
    "hash": "1a1af0ee75eeea9e2e1ee996c87e7a2b11a0bebd85af04bb136d915cefc0abce"
   }
  }
 },
 "nbformat": 4,
 "nbformat_minor": 1
}
